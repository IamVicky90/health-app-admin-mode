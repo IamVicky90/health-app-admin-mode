{
 "cells": [
  {
   "cell_type": "code",
   "execution_count": 1,
   "id": "1f8c04e6",
   "metadata": {},
   "outputs": [],
   "source": [
    "import pandas as pd\n",
    "import plotly.express as px\n",
    "csv = pd.read_csv('../csv_data/credentials_validation.csv')"
   ]
  },
  {
   "cell_type": "code",
   "execution_count": 2,
   "id": "b9d47cee",
   "metadata": {},
   "outputs": [
    {
     "data": {
      "text/html": [
       "<div>\n",
       "<style scoped>\n",
       "    .dataframe tbody tr th:only-of-type {\n",
       "        vertical-align: middle;\n",
       "    }\n",
       "\n",
       "    .dataframe tbody tr th {\n",
       "        vertical-align: top;\n",
       "    }\n",
       "\n",
       "    .dataframe thead th {\n",
       "        text-align: right;\n",
       "    }\n",
       "</style>\n",
       "<table border=\"1\" class=\"dataframe\">\n",
       "  <thead>\n",
       "    <tr style=\"text-align: right;\">\n",
       "      <th></th>\n",
       "      <th>date</th>\n",
       "      <th>logging_info</th>\n",
       "      <th>status</th>\n",
       "    </tr>\n",
       "  </thead>\n",
       "  <tbody>\n",
       "    <tr>\n",
       "      <th>0</th>\n",
       "      <td>12-12-21 13:50:36</td>\n",
       "      <td>validate_password_and_email funtion executed</td>\n",
       "      <td>INFO</td>\n",
       "    </tr>\n",
       "    <tr>\n",
       "      <th>1</th>\n",
       "      <td>11-12-21 16:10:20</td>\n",
       "      <td>validate_password_and_email funtion executed</td>\n",
       "      <td>INFO</td>\n",
       "    </tr>\n",
       "    <tr>\n",
       "      <th>2</th>\n",
       "      <td>12-12-21 13:51:57</td>\n",
       "      <td>email: ghulambilal90@gmail.com is entered to v...</td>\n",
       "      <td>INFO</td>\n",
       "    </tr>\n",
       "    <tr>\n",
       "      <th>3</th>\n",
       "      <td>22-11-21 15:28:46</td>\n",
       "      <td>validate_password_and_email funtion executed</td>\n",
       "      <td>INFO</td>\n",
       "    </tr>\n",
       "    <tr>\n",
       "      <th>4</th>\n",
       "      <td>27-11-21 23:36:54</td>\n",
       "      <td>validate_password_and_email funtion executed</td>\n",
       "      <td>INFO</td>\n",
       "    </tr>\n",
       "  </tbody>\n",
       "</table>\n",
       "</div>"
      ],
      "text/plain": [
       "                date                                       logging_info status\n",
       "0  12-12-21 13:50:36       validate_password_and_email funtion executed   INFO\n",
       "1  11-12-21 16:10:20       validate_password_and_email funtion executed   INFO\n",
       "2  12-12-21 13:51:57  email: ghulambilal90@gmail.com is entered to v...   INFO\n",
       "3  22-11-21 15:28:46       validate_password_and_email funtion executed   INFO\n",
       "4  27-11-21 23:36:54       validate_password_and_email funtion executed   INFO"
      ]
     },
     "execution_count": 2,
     "metadata": {},
     "output_type": "execute_result"
    }
   ],
   "source": [
    "csv.head()"
   ]
  },
  {
   "cell_type": "code",
   "execution_count": 3,
   "id": "95a7d0d2",
   "metadata": {},
   "outputs": [
    {
     "data": {
      "text/plain": [
       "(75, 3)"
      ]
     },
     "execution_count": 3,
     "metadata": {},
     "output_type": "execute_result"
    }
   ],
   "source": [
    "csv.shape"
   ]
  },
  {
   "cell_type": "code",
   "execution_count": 4,
   "id": "9d6b79d5",
   "metadata": {},
   "outputs": [
    {
     "data": {
      "text/plain": [
       "INFO    75\n",
       "Name: status, dtype: int64"
      ]
     },
     "execution_count": 4,
     "metadata": {},
     "output_type": "execute_result"
    }
   ],
   "source": [
    "csv.status.value_counts()"
   ]
  },
  {
   "cell_type": "code",
   "execution_count": null,
   "id": "61358057",
   "metadata": {},
   "outputs": [],
   "source": [
    "csv.status.value_counts()"
   ]
  }
 ],
 "metadata": {
  "kernelspec": {
   "display_name": "Python 3",
   "language": "python",
   "name": "python3"
  },
  "language_info": {
   "codemirror_mode": {
    "name": "ipython",
    "version": 3
   },
   "file_extension": ".py",
   "mimetype": "text/x-python",
   "name": "python",
   "nbconvert_exporter": "python",
   "pygments_lexer": "ipython3",
   "version": "3.6.2"
  }
 },
 "nbformat": 4,
 "nbformat_minor": 5
}
