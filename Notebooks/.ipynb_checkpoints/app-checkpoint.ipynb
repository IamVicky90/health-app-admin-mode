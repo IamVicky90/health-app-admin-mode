{
 "cells": [
  {
   "cell_type": "code",
   "execution_count": 1,
   "id": "cf2efffc",
   "metadata": {},
   "outputs": [],
   "source": [
    "import pandas as pd"
   ]
  },
  {
   "cell_type": "code",
   "execution_count": 2,
   "id": "ae1af382",
   "metadata": {},
   "outputs": [],
   "source": [
    "csv = pd.read_csv('../csv_data/app.csv')"
   ]
  },
  {
   "cell_type": "code",
   "execution_count": 3,
   "id": "b031b26f",
   "metadata": {},
   "outputs": [
    {
     "data": {
      "text/html": [
       "<div>\n",
       "<style scoped>\n",
       "    .dataframe tbody tr th:only-of-type {\n",
       "        vertical-align: middle;\n",
       "    }\n",
       "\n",
       "    .dataframe tbody tr th {\n",
       "        vertical-align: top;\n",
       "    }\n",
       "\n",
       "    .dataframe thead th {\n",
       "        text-align: right;\n",
       "    }\n",
       "</style>\n",
       "<table border=\"1\" class=\"dataframe\">\n",
       "  <thead>\n",
       "    <tr style=\"text-align: right;\">\n",
       "      <th></th>\n",
       "      <th>date</th>\n",
       "      <th>logging_info</th>\n",
       "      <th>status</th>\n",
       "    </tr>\n",
       "  </thead>\n",
       "  <tbody>\n",
       "    <tr>\n",
       "      <th>0</th>\n",
       "      <td>11-12-21 19:11:50</td>\n",
       "      <td>Some Unknown Error Occured in predict_skin fun...</td>\n",
       "      <td>ERROR</td>\n",
       "    </tr>\n",
       "    <tr>\n",
       "      <th>1</th>\n",
       "      <td>12-12-21 00:09:24</td>\n",
       "      <td>Some Unknown Error Occured in heart_predict fu...</td>\n",
       "      <td>ERROR</td>\n",
       "    </tr>\n",
       "    <tr>\n",
       "      <th>2</th>\n",
       "      <td>28-11-21 10:18:59</td>\n",
       "      <td>Some Unknown Error Occured in predict funtion,...</td>\n",
       "      <td>ERROR</td>\n",
       "    </tr>\n",
       "    <tr>\n",
       "      <th>3</th>\n",
       "      <td>12-12-21 00:18:43</td>\n",
       "      <td>Some Unknown Error Occured in heart_predict fu...</td>\n",
       "      <td>ERROR</td>\n",
       "    </tr>\n",
       "    <tr>\n",
       "      <th>4</th>\n",
       "      <td>12-12-21 02:51:06</td>\n",
       "      <td>Some Unknown Error Occured in heart_predict fu...</td>\n",
       "      <td>ERROR</td>\n",
       "    </tr>\n",
       "  </tbody>\n",
       "</table>\n",
       "</div>"
      ],
      "text/plain": [
       "                date                                       logging_info status\n",
       "0  11-12-21 19:11:50  Some Unknown Error Occured in predict_skin fun...  ERROR\n",
       "1  12-12-21 00:09:24  Some Unknown Error Occured in heart_predict fu...  ERROR\n",
       "2  28-11-21 10:18:59  Some Unknown Error Occured in predict funtion,...  ERROR\n",
       "3  12-12-21 00:18:43  Some Unknown Error Occured in heart_predict fu...  ERROR\n",
       "4  12-12-21 02:51:06  Some Unknown Error Occured in heart_predict fu...  ERROR"
      ]
     },
     "execution_count": 3,
     "metadata": {},
     "output_type": "execute_result"
    }
   ],
   "source": [
    "csv.head()"
   ]
  },
  {
   "cell_type": "code",
   "execution_count": 4,
   "id": "5328c71f",
   "metadata": {},
   "outputs": [
    {
     "data": {
      "text/plain": [
       "'Some Unknown Error Occured in predict_skin funtion, error [Errno 2] No such file or directory: \"/home/vicky/Human-Plant-Disease-Detection-with-health-fitness-recommendation/static/user_upload/signature.png\"'"
      ]
     },
     "execution_count": 4,
     "metadata": {},
     "output_type": "execute_result"
    }
   ],
   "source": [
    "csv['logging_info'][0]"
   ]
  },
  {
   "cell_type": "code",
   "execution_count": 5,
   "id": "2761f206",
   "metadata": {},
   "outputs": [
    {
     "data": {
      "text/plain": [
       "array(['ERROR'], dtype=object)"
      ]
     },
     "execution_count": 5,
     "metadata": {},
     "output_type": "execute_result"
    }
   ],
   "source": [
    "csv.status.unique()"
   ]
  },
  {
   "cell_type": "code",
   "execution_count": 6,
   "id": "7a1c414b",
   "metadata": {},
   "outputs": [
    {
     "data": {
      "text/plain": [
       "(17, 3)"
      ]
     },
     "execution_count": 6,
     "metadata": {},
     "output_type": "execute_result"
    }
   ],
   "source": [
    "csv.shape"
   ]
  },
  {
   "cell_type": "code",
   "execution_count": 7,
   "id": "13f04df0",
   "metadata": {},
   "outputs": [
    {
     "data": {
      "text/plain": [
       "array(['Some Unknown Error Occured in predict_skin funtion, error [Errno 2] No such file or directory: \"/home/vicky/Human-Plant-Disease-Detection-with-health-fitness-recommendation/static/user_upload/signature.png\"',\n",
       "       'Some Unknown Error Occured in heart_predict funtion, error list index out of range',\n",
       "       'Some Unknown Error Occured in predict funtion, error [Errno 2] No such file or directory: \"static/user_upload/gd4.png\"',\n",
       "       'Some Unknown Error Occured in home funtion, error local variable \"email_validation_flag\" referenced before assignment',\n",
       "       'Some Unknown Error Occured in home funtion, error cannot unpack non-iterable NoneType object',\n",
       "       'Some Unknown Error Occured in predict_pnemonia funtion, error [Errno 2] No such file or directory: \"/home/static/user_upload/gd1.png\"',\n",
       "       'Some Unknown Error Occured in heart_predict funtion, error local variable \"fname\" referenced before assignment',\n",
       "       'Some Unknown Error Occured in send_code funtion, error cannot unpack non-iterable NoneType object',\n",
       "       'Some Unknown Error Occured in heart_predict funtion, error [Errno 21] Is a directory: \"src/medical_report_file\"'],\n",
       "      dtype=object)"
      ]
     },
     "execution_count": 7,
     "metadata": {},
     "output_type": "execute_result"
    }
   ],
   "source": [
    "csv.logging_info.unique()"
   ]
  },
  {
   "cell_type": "code",
   "execution_count": 8,
   "id": "59840c77",
   "metadata": {},
   "outputs": [],
   "source": [
    "error_occured_in_func=list()\n",
    "for i in range(csv.shape[0]):\n",
    "    error_occured_in_func.append(csv['logging_info'].str.split()[i][5])"
   ]
  },
  {
   "cell_type": "code",
   "execution_count": 9,
   "id": "a2d9261c",
   "metadata": {},
   "outputs": [
    {
     "data": {
      "text/plain": [
       "['predict_skin',\n",
       " 'heart_predict',\n",
       " 'predict',\n",
       " 'heart_predict',\n",
       " 'heart_predict',\n",
       " 'home',\n",
       " 'home',\n",
       " 'predict_pnemonia',\n",
       " 'home',\n",
       " 'home',\n",
       " 'heart_predict',\n",
       " 'heart_predict',\n",
       " 'send_code',\n",
       " 'send_code',\n",
       " 'heart_predict',\n",
       " 'heart_predict',\n",
       " 'home']"
      ]
     },
     "execution_count": 9,
     "metadata": {},
     "output_type": "execute_result"
    }
   ],
   "source": [
    "error_occured_in_func"
   ]
  },
  {
   "cell_type": "code",
   "execution_count": 10,
   "id": "f12d8533",
   "metadata": {},
   "outputs": [
    {
     "data": {
      "text/plain": [
       "'heart_predict'"
      ]
     },
     "execution_count": 10,
     "metadata": {},
     "output_type": "execute_result"
    }
   ],
   "source": [
    "csv['logging_info'].str.split()[1][5]"
   ]
  },
  {
   "cell_type": "code",
   "execution_count": 11,
   "id": "c7701cef",
   "metadata": {},
   "outputs": [],
   "source": [
    "csv['error_occured_in_func']=error_occured_in_func"
   ]
  },
  {
   "cell_type": "code",
   "execution_count": 12,
   "id": "0df62f9b",
   "metadata": {},
   "outputs": [
    {
     "data": {
      "text/plain": [
       "array(['predict_skin', 'heart_predict', 'predict', 'home',\n",
       "       'predict_pnemonia', 'send_code'], dtype=object)"
      ]
     },
     "execution_count": 12,
     "metadata": {},
     "output_type": "execute_result"
    }
   ],
   "source": [
    "csv['error_occured_in_func'].unique()"
   ]
  },
  {
   "cell_type": "code",
   "execution_count": 13,
   "id": "4631c827",
   "metadata": {},
   "outputs": [
    {
     "data": {
      "text/plain": [
       "0         predict_skin\n",
       "1        heart_predict\n",
       "2              predict\n",
       "3        heart_predict\n",
       "4        heart_predict\n",
       "5                 home\n",
       "6                 home\n",
       "7     predict_pnemonia\n",
       "8                 home\n",
       "9                 home\n",
       "10       heart_predict\n",
       "11       heart_predict\n",
       "12           send_code\n",
       "13           send_code\n",
       "14       heart_predict\n",
       "15       heart_predict\n",
       "16                home\n",
       "Name: error_occured_in_func, dtype: object"
      ]
     },
     "execution_count": 13,
     "metadata": {},
     "output_type": "execute_result"
    }
   ],
   "source": [
    "csv['error_occured_in_func']"
   ]
  },
  {
   "cell_type": "code",
   "execution_count": 14,
   "id": "b8c2d8f5",
   "metadata": {},
   "outputs": [
    {
     "data": {
      "text/plain": [
       "'Some Unknown Error Occured in predict funtion, error [Errno 2] No such file or directory: \"static/user_upload/gd4.png\"'"
      ]
     },
     "execution_count": 14,
     "metadata": {},
     "output_type": "execute_result"
    }
   ],
   "source": [
    "csv.logging_info[2]"
   ]
  },
  {
   "cell_type": "code",
   "execution_count": 15,
   "id": "4399274d",
   "metadata": {},
   "outputs": [
    {
     "name": "stdout",
     "output_type": "stream",
     "text": [
      "Some Unknown Error Occured in predict_skin funtion, error [Errno 2] No such file or directory: \"/home/vicky/Human-Plant-Disease-Detection-with-health-fitness-recommendation/static/user_upload/signature.png\"\n",
      "Some Unknown Error Occured in heart_predict funtion, error list index out of range\n",
      "Some Unknown Error Occured in predict funtion, error [Errno 2] No such file or directory: \"static/user_upload/gd4.png\"\n",
      "Some Unknown Error Occured in home funtion, error local variable \"email_validation_flag\" referenced before assignment\n",
      "Some Unknown Error Occured in home funtion, error cannot unpack non-iterable NoneType object\n",
      "Some Unknown Error Occured in predict_pnemonia funtion, error [Errno 2] No such file or directory: \"/home/static/user_upload/gd1.png\"\n",
      "Some Unknown Error Occured in heart_predict funtion, error local variable \"fname\" referenced before assignment\n",
      "Some Unknown Error Occured in send_code funtion, error cannot unpack non-iterable NoneType object\n",
      "Some Unknown Error Occured in heart_predict funtion, error [Errno 21] Is a directory: \"src/medical_report_file\"\n"
     ]
    }
   ],
   "source": [
    "for item in csv.logging_info.unique():\n",
    "    print(item)"
   ]
  },
  {
   "cell_type": "code",
   "execution_count": 16,
   "id": "18eed25a",
   "metadata": {},
   "outputs": [],
   "source": [
    "real_error=[]\n",
    "for item in csv.logging_info.str.split(','):\n",
    "    if str(item).find('[Errno 2]')>0:\n",
    "        real_error.append('[Error 2]')\n",
    "        continue\n",
    "    real_error.append(item[-1])"
   ]
  },
  {
   "cell_type": "code",
   "execution_count": 17,
   "id": "19b2b4df",
   "metadata": {},
   "outputs": [],
   "source": [
    "csv['real_error']=real_error"
   ]
  },
  {
   "cell_type": "code",
   "execution_count": 18,
   "id": "940fbfd8",
   "metadata": {},
   "outputs": [
    {
     "data": {
      "text/html": [
       "<div>\n",
       "<style scoped>\n",
       "    .dataframe tbody tr th:only-of-type {\n",
       "        vertical-align: middle;\n",
       "    }\n",
       "\n",
       "    .dataframe tbody tr th {\n",
       "        vertical-align: top;\n",
       "    }\n",
       "\n",
       "    .dataframe thead th {\n",
       "        text-align: right;\n",
       "    }\n",
       "</style>\n",
       "<table border=\"1\" class=\"dataframe\">\n",
       "  <thead>\n",
       "    <tr style=\"text-align: right;\">\n",
       "      <th></th>\n",
       "      <th>date</th>\n",
       "      <th>logging_info</th>\n",
       "      <th>status</th>\n",
       "      <th>error_occured_in_func</th>\n",
       "      <th>real_error</th>\n",
       "    </tr>\n",
       "  </thead>\n",
       "  <tbody>\n",
       "    <tr>\n",
       "      <th>0</th>\n",
       "      <td>11-12-21 19:11:50</td>\n",
       "      <td>Some Unknown Error Occured in predict_skin fun...</td>\n",
       "      <td>ERROR</td>\n",
       "      <td>predict_skin</td>\n",
       "      <td>[Error 2]</td>\n",
       "    </tr>\n",
       "    <tr>\n",
       "      <th>1</th>\n",
       "      <td>12-12-21 00:09:24</td>\n",
       "      <td>Some Unknown Error Occured in heart_predict fu...</td>\n",
       "      <td>ERROR</td>\n",
       "      <td>heart_predict</td>\n",
       "      <td>error list index out of range</td>\n",
       "    </tr>\n",
       "    <tr>\n",
       "      <th>2</th>\n",
       "      <td>28-11-21 10:18:59</td>\n",
       "      <td>Some Unknown Error Occured in predict funtion,...</td>\n",
       "      <td>ERROR</td>\n",
       "      <td>predict</td>\n",
       "      <td>[Error 2]</td>\n",
       "    </tr>\n",
       "    <tr>\n",
       "      <th>3</th>\n",
       "      <td>12-12-21 00:18:43</td>\n",
       "      <td>Some Unknown Error Occured in heart_predict fu...</td>\n",
       "      <td>ERROR</td>\n",
       "      <td>heart_predict</td>\n",
       "      <td>error list index out of range</td>\n",
       "    </tr>\n",
       "    <tr>\n",
       "      <th>4</th>\n",
       "      <td>12-12-21 02:51:06</td>\n",
       "      <td>Some Unknown Error Occured in heart_predict fu...</td>\n",
       "      <td>ERROR</td>\n",
       "      <td>heart_predict</td>\n",
       "      <td>error list index out of range</td>\n",
       "    </tr>\n",
       "  </tbody>\n",
       "</table>\n",
       "</div>"
      ],
      "text/plain": [
       "                date                                       logging_info  \\\n",
       "0  11-12-21 19:11:50  Some Unknown Error Occured in predict_skin fun...   \n",
       "1  12-12-21 00:09:24  Some Unknown Error Occured in heart_predict fu...   \n",
       "2  28-11-21 10:18:59  Some Unknown Error Occured in predict funtion,...   \n",
       "3  12-12-21 00:18:43  Some Unknown Error Occured in heart_predict fu...   \n",
       "4  12-12-21 02:51:06  Some Unknown Error Occured in heart_predict fu...   \n",
       "\n",
       "  status error_occured_in_func                      real_error  \n",
       "0  ERROR          predict_skin                       [Error 2]  \n",
       "1  ERROR         heart_predict   error list index out of range  \n",
       "2  ERROR               predict                       [Error 2]  \n",
       "3  ERROR         heart_predict   error list index out of range  \n",
       "4  ERROR         heart_predict   error list index out of range  "
      ]
     },
     "execution_count": 18,
     "metadata": {},
     "output_type": "execute_result"
    }
   ],
   "source": [
    "csv.head()"
   ]
  },
  {
   "cell_type": "code",
   "execution_count": 19,
   "id": "46e6c2a6",
   "metadata": {},
   "outputs": [
    {
     "data": {
      "text/plain": [
       "array(['[Error 2]', ' error list index out of range',\n",
       "       ' error local variable \"email_validation_flag\" referenced before assignment',\n",
       "       ' error cannot unpack non-iterable NoneType object',\n",
       "       ' error local variable \"fname\" referenced before assignment',\n",
       "       ' error [Errno 21] Is a directory: \"src/medical_report_file\"'],\n",
       "      dtype=object)"
      ]
     },
     "execution_count": 19,
     "metadata": {},
     "output_type": "execute_result"
    }
   ],
   "source": [
    "csv.real_error.unique()"
   ]
  },
  {
   "cell_type": "code",
   "execution_count": null,
   "id": "82c0a9f0",
   "metadata": {},
   "outputs": [],
   "source": []
  }
 ],
 "metadata": {
  "kernelspec": {
   "display_name": "Python 3",
   "language": "python",
   "name": "python3"
  },
  "language_info": {
   "codemirror_mode": {
    "name": "ipython",
    "version": 3
   },
   "file_extension": ".py",
   "mimetype": "text/x-python",
   "name": "python",
   "nbconvert_exporter": "python",
   "pygments_lexer": "ipython3",
   "version": "3.6.2"
  }
 },
 "nbformat": 4,
 "nbformat_minor": 5
}
